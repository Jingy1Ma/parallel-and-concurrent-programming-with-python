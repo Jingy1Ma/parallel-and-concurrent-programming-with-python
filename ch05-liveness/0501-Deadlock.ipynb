{
 "cells": [
  {
   "cell_type": "markdown",
   "metadata": {},
   "source": [
    "## 5.1 Deadlock\n",
    "Deadlock:\n",
    "\n",
    "- Each member is waiting for another member to take action\n",
    "\n",
    "Liveness:\n",
    "\n",
    "- Properties that require a system to make progress\n",
    "- Members may have to \"take turns\" in critical sections"
   ]
  },
  {
   "cell_type": "code",
   "execution_count": 1,
   "metadata": {},
   "outputs": [
    {
     "name": "stdout",
     "output_type": "stream",
     "text": [
      "Barron took a piece! Sushi remaining: 4\n",
      "Barron took a piece! Sushi remaining: 3\n",
      "Barron took a piece! Sushi remaining: 2\n",
      "Barron took a piece! Sushi remaining: 1\n",
      "Barron took a piece! Sushi remaining: 0\n"
     ]
    }
   ],
   "source": [
    "#!/usr/bin/env python3\n",
    "\"\"\" Three philosophers, thinking and eating sushi \"\"\"\n",
    "\n",
    "import threading\n",
    "\n",
    "chopstick_a = threading.Lock()\n",
    "chopstick_b = threading.Lock()\n",
    "chopstick_c = threading.Lock()\n",
    "sushi_count = 5\n",
    "\n",
    "def philosopher(name, first_chopstick, second_chopstick):\n",
    "    global sushi_count\n",
    "    while sushi_count > 0: # eat sushi until it's all gone\n",
    "        first_chopstick.acquire()\n",
    "        second_chopstick.acquire()\n",
    "\n",
    "        if sushi_count > 0:\n",
    "            sushi_count -= 1\n",
    "            print(name, 'took a piece! Sushi remaining:', sushi_count)\n",
    "\n",
    "        second_chopstick.release()\n",
    "        first_chopstick.release()\n",
    "\n",
    "if __name__ == '__main__':\n",
    "    threading.Thread(target=philosopher, args=('Barron', chopstick_a, chopstick_b)).start()\n",
    "    threading.Thread(target=philosopher, args=('Olivia', chopstick_b, chopstick_c)).start()\n",
    "    threading.Thread(target=philosopher, args=('Steve', chopstick_c, chopstick_a)).start()\n"
   ]
  },
  {
   "cell_type": "markdown",
   "metadata": {},
   "source": [
    "Notice that each philosopher has a different first and second chopstick. \n",
    "\n",
    "Due to scheduling, only one philosopher is getting to eat here but all of the sushi is eventually eaten and the program finishes, which is valid behavior. This highlights the tricky nature of deadlocks and why they are hard to detect and debug. Just like a race condition, you might get lucky and never experience a problem with your program, even if the potential for a deadlock exists.\n",
    "\n",
    "To give this program more opportunities to deadlock, we are going to increase the amount of sushi from 5 to 500, with three really hungry philosophers."
   ]
  },
  {
   "cell_type": "code",
   "execution_count": 5,
   "metadata": {},
   "outputs": [
    {
     "name": "stdout",
     "output_type": "stream",
     "text": [
      "Barron took a piece! Sushi remaining: 499\n",
      "Barron took a piece! Sushi remaining: 498\n",
      "Barron took a piece! Sushi remaining: 497\n",
      "Barron took a piece! Sushi remaining: 496\n",
      "Barron took a piece! Sushi remaining: 495\n",
      "Barron took a piece! Sushi remaining: 494\n",
      "Barron took a piece! Sushi remaining: 493\n",
      "Barron took a piece! Sushi remaining: 492\n",
      "Barron took a piece! Sushi remaining: 491\n",
      "Barron took a piece! Sushi remaining: 490\n",
      "Olivia took a piece! Sushi remaining: 489\n",
      "Olivia took a piece! Sushi remaining: 488\n",
      "Olivia took a piece! Sushi remaining: 487\n",
      "Olivia took a piece! Sushi remaining: 486\n",
      "Olivia took a piece! Sushi remaining: 485\n"
     ]
    }
   ],
   "source": [
    "#!/usr/bin/env python3\n",
    "\"\"\" Three philosophers, thinking and eating sushi \"\"\"\n",
    "\n",
    "import threading\n",
    "\n",
    "chopstick_a = threading.Lock()\n",
    "chopstick_b = threading.Lock()\n",
    "chopstick_c = threading.Lock()\n",
    "sushi_count = 500\n",
    "\n",
    "def philosopher(name, first_chopstick, second_chopstick):\n",
    "    global sushi_count\n",
    "    while sushi_count > 0: # eat sushi until it's all gone\n",
    "        first_chopstick.acquire()\n",
    "        second_chopstick.acquire()\n",
    "\n",
    "        if sushi_count > 0:\n",
    "            sushi_count -= 1\n",
    "            print(name, 'took a piece! Sushi remaining:', sushi_count)\n",
    "\n",
    "        second_chopstick.release()\n",
    "        first_chopstick.release()\n",
    "\n",
    "if __name__ == '__main__':\n",
    "    threading.Thread(target=philosopher, args=('Barron', chopstick_a, chopstick_b)).start()\n",
    "    threading.Thread(target=philosopher, args=('Olivia', chopstick_b, chopstick_c)).start()\n",
    "    threading.Thread(target=philosopher, args=('Steve', chopstick_c, chopstick_a)).start()\n"
   ]
  },
  {
   "cell_type": "markdown",
   "metadata": {},
   "source": [
    "The programs lock up with 485 pieces of sushi remaining. Our philosophers are in a deadlock. If we press Ctrl+Shift+Esc to open the Windows Task Manager and go to the performance tab, we will that the CPU is not overly busy (it's probably only at about 1%). Since the threads are stuck waiting on each other, the deadlock program doesn't use up CPU cycles. Now our program will be stuck in this state forever, so we need to manually terminate it. Running this program again, we will result in a deadlock after a different amount of sushi. The amount of progress it makes before the deadlock will vary depending on how the threads get scheduled to execute. If we're lucky, it's possible that the program could make it to the end of the 500 piece sushi plate. But luck is not a good strategy for programming. So let's implement the solution of prioritizing the locks.\n",
    "\n",
    "### Prioritize Locks\n",
    "- Chopstick A = First priority\n",
    "- Chopstick B = Second priority\n",
    "- Chopstick A = Third priority\n",
    "\n",
    "Each philosopher should always acquire their highest priority chopstick first."
   ]
  },
  {
   "cell_type": "code",
   "execution_count": null,
   "metadata": {},
   "outputs": [],
   "source": [
    "if __name__ == '__main__':\n",
    "    threading.Thread(target=philosopher, args=('Barron', chopstick_a, chopstick_b)).start()\n",
    "    threading.Thread(target=philosopher, args=('Olivia', chopstick_b, chopstick_c)).start()\n",
    "    threading.Thread(target=philosopher, args=('Steve', chopstick_c, chopstick_a)).start()"
   ]
  },
  {
   "cell_type": "markdown",
   "metadata": {},
   "source": [
    "We can see Steve is causing the problem here because he acquires chopstick C before A. So we need to swap the order of those."
   ]
  },
  {
   "cell_type": "code",
   "execution_count": null,
   "metadata": {},
   "outputs": [],
   "source": [
    "#!/usr/bin/env python3\n",
    "\"\"\" Three philosophers, thinking and eating sushi \"\"\"\n",
    "\n",
    "import threading\n",
    "\n",
    "chopstick_a = threading.Lock()\n",
    "chopstick_b = threading.Lock()\n",
    "chopstick_c = threading.Lock()\n",
    "sushi_count = 500\n",
    "\n",
    "def philosopher(name, first_chopstick, second_chopstick):\n",
    "    global sushi_count\n",
    "    while sushi_count > 0: # eat sushi until it's all gone\n",
    "        first_chopstick.acquire()\n",
    "        second_chopstick.acquire()\n",
    "\n",
    "        if sushi_count > 0:\n",
    "            sushi_count -= 1\n",
    "            print(name, 'took a piece! Sushi remaining:', sushi_count)\n",
    "\n",
    "        second_chopstick.release()\n",
    "        first_chopstick.release()\n",
    "\n",
    "if __name__ == '__main__':\n",
    "    threading.Thread(target=philosopher, args=('Barron', chopstick_a, chopstick_b)).start()\n",
    "    threading.Thread(target=philosopher, args=('Olivia', chopstick_b, chopstick_c)).start()\n",
    "    threading.Thread(target=philosopher, args=('Steve', chopstick_a, chopstick_c)).start()"
   ]
  },
  {
   "cell_type": "markdown",
   "metadata": {},
   "source": [
    "If we run this program, we will see it runs to the end and we will have 3 very well-fed philosophers. We designed this example to be as simple as possible by only including a single shared resource, the sushi plate. In practice, this program only really needs one lock to protect it. \n",
    "\n",
    "We intentionally created the potential for deadlock because we nested two locks inside each other to demonstrate the concept. As your program grows in complexity to include more critical sections, locks and parallel threads with intertwined dependencies, it becomes increasingly more difficult to identify and prevent potential deadlocks. \n",
    "\n",
    "### Lock Ordering\n",
    "- The simplest technique to prevent deadlocks\n",
    "- Ensure locks are always taken in the same order by any thread.\n",
    "\n",
    "However, lock ordering may not always be feasible. For example, a thread may not know all of the locks it will need to acquire ahead of taking any of them. \n",
    "\n",
    "\n",
    "### Lock Timeout\n",
    "- Put a timeout on lock attempts\n",
    "- If a thread cannot acquire all locks within the time limit:\n",
    "    - Back up and free all locks then\n",
    "    - Wait for a random amount of time\n",
    "    - Try again!"
   ]
  }
 ],
 "metadata": {
  "kernelspec": {
   "display_name": "Python 3",
   "language": "python",
   "name": "python3"
  },
  "language_info": {
   "codemirror_mode": {
    "name": "ipython",
    "version": 3
   },
   "file_extension": ".py",
   "mimetype": "text/x-python",
   "name": "python",
   "nbconvert_exporter": "python",
   "pygments_lexer": "ipython3",
   "version": "3.6.5"
  }
 },
 "nbformat": 4,
 "nbformat_minor": 2
}

{
 "cells": [
  {
   "cell_type": "markdown",
   "metadata": {},
   "source": [
    "## 5.3 Starvation\n",
    "A process or thread is perpetually denied the resource it needs. In a simple scenario with two equal threads competing for execution time, starvation probably isn't a concern. Both threads should get plenty of chances to acquire the resource. However, if two threads are given different priorities, then that may not be the case. How different thread priorities get treated will depend on the operating system. But generally higher priority threads will be scheduled to execute more often, and that can leave low priority threads feeling hungry. Another thing that can lead to starvation is having too many concurrent threads.\n",
    "\n",
    "To demonstrate thread starvation in Python, we'll modify the dining philosophers example by adding a local variable within the `philosopher` function to keep track of how many pieces of sushi each philosopher thread gets to eat."
   ]
  },
  {
   "cell_type": "code",
   "execution_count": null,
   "metadata": {},
   "outputs": [],
   "source": [
    "#!/usr/bin/env python3\n",
    "\"\"\" Three philosophers, thinking and eating sushi \"\"\"\n",
    "\n",
    "import threading\n",
    "\n",
    "chopstick_a = threading.Lock()\n",
    "chopstick_b = threading.Lock()\n",
    "chopstick_c = threading.Lock()\n",
    "sushi_count = 5000\n",
    "\n",
    "def philosopher(name, first_chopstick, second_chopstick):\n",
    "    global sushi_count\n",
    "    sushi_eaten = 0\n",
    "    while sushi_count > 0: # eat sushi until it's all gone\n",
    "        with first_chopstick:\n",
    "            with second_chopstick:\n",
    "                if sushi_count > 0:\n",
    "                    sushi_count -= 1\n",
    "                    sushi_eaten += 1\n",
    "                    print(name, 'took a piece! Sushi remaining:', sushi_count)\n",
    "    print(name, 'took', sushi_eaten, 'pieces')\n",
    "\n",
    "if __name__ == '__main__':\n",
    "    threading.Thread(target=philosopher, args=('Barron', chopstick_a, chopstick_b)).start()\n",
    "    threading.Thread(target=philosopher, args=('Olivia', chopstick_b, chopstick_c)).start()\n",
    "    threading.Thread(target=philosopher, args=('Steve', chopstick_a, chopstick_c)).start()\n"
   ]
  },
  {
   "cell_type": "markdown",
   "metadata": {},
   "source": [
    "When it finishes, we see that each of the philosophers got a different amount of sushi and it's not particularly fair. Olivia took way more sushi than Barron or Steve. She has over 4000 of the pieces. But it's not because she's greedy. In this case, it's because of the order in which the 3 philosophers are taking chopsticks. Barron and Steve are both competing for `chopostick_a` as their first chopstick, but Olivia is the only philosopher going for `chopstick_b` first. Since she has less competition to get her first chopstick, she ends up getting to take sushi more frequently.\n",
    "\n",
    "To make things fair for this example, we'll make all of the philosophers acquire the same two chopsticks, `chopostick_a` first and then `chopstick_b`."
   ]
  },
  {
   "cell_type": "code",
   "execution_count": null,
   "metadata": {},
   "outputs": [],
   "source": [
    "#!/usr/bin/env python3\n",
    "\"\"\" Three philosophers, thinking and eating sushi \"\"\"\n",
    "\n",
    "import threading\n",
    "\n",
    "chopstick_a = threading.Lock()\n",
    "chopstick_b = threading.Lock()\n",
    "chopstick_c = threading.Lock()\n",
    "sushi_count = 5000\n",
    "\n",
    "def philosopher(name, first_chopstick, second_chopstick):\n",
    "    global sushi_count\n",
    "    sushi_eaten = 0\n",
    "    while sushi_count > 0: # eat sushi until it's all gone\n",
    "        with first_chopstick:\n",
    "            with second_chopstick:\n",
    "                if sushi_count > 0:\n",
    "                    sushi_count -= 1\n",
    "                    sushi_eaten += 1\n",
    "                    print(name, 'took a piece! Sushi remaining:', sushi_count)\n",
    "    print(name, 'took', sushi_eaten, 'pieces')\n",
    "\n",
    "if __name__ == '__main__':\n",
    "    threading.Thread(target=philosopher, args=('Barron', chopstick_a, chopstick_b)).start()\n",
    "    threading.Thread(target=philosopher, args=('Olivia', chopstick_a, chopstick_b)).start()\n",
    "    threading.Thread(target=philosopher, args=('Steve', chopstick_a, chopstick_b)).start()\n"
   ]
  },
  {
   "cell_type": "markdown",
   "metadata": {},
   "source": [
    "Let's see what happens if we drastically increase the number of philosophers at the dinner party using a `for` loop to create 50 instances of Barron, Olivia, and Steve. In this case, we'll have 150 philosophers competing for 5000 pieces of sushi."
   ]
  },
  {
   "cell_type": "code",
   "execution_count": null,
   "metadata": {},
   "outputs": [],
   "source": [
    "#!/usr/bin/env python3\n",
    "\"\"\" Three philosophers, thinking and eating sushi \"\"\"\n",
    "\n",
    "import threading\n",
    "\n",
    "chopstick_a = threading.Lock()\n",
    "chopstick_b = threading.Lock()\n",
    "chopstick_c = threading.Lock()\n",
    "sushi_count = 5000\n",
    "\n",
    "def philosopher(name, first_chopstick, second_chopstick):\n",
    "    global sushi_count\n",
    "    sushi_eaten = 0\n",
    "    while sushi_count > 0: # eat sushi until it's all gone\n",
    "        with first_chopstick:\n",
    "            with second_chopstick:\n",
    "                if sushi_count > 0:\n",
    "                    sushi_count -= 1\n",
    "                    sushi_eaten += 1\n",
    "                    print(name, 'took a piece! Sushi remaining:', sushi_count)\n",
    "    print(name, 'took', sushi_eaten, 'pieces')\n",
    "\n",
    "if __name__ == '__main__':\n",
    "    for thread in range(50):\n",
    "        threading.Thread(target=philosopher, args=('Barron', chopstick_a, chopstick_b)).start()\n",
    "        threading.Thread(target=philosopher, args=('Olivia', chopstick_a, chopstick_b)).start()\n",
    "        threading.Thread(target=philosopher, args=('Steve', chopstick_a, chopstick_b)).start()\n"
   ]
  },
  {
   "cell_type": "markdown",
   "metadata": {},
   "source": [
    "We can see that some philosophers got a lot of sushi compared to others. Many of these philosophers starve completely taking 0. All of these threads were created with the same default priority, but because there're so many, some threads never got a chance to execute. This represents a real problem in programs containing a large number of threads. For example, if instead of feeding sushi to a bunch of philosophers, this program was a web server that created new threads to handle a huge number of incoming requests, some of those requests may never get processed that would lead to some very impatient and angry users on the other end. Some techniques can be used to improve or even guarantee fairness among threads, but that type of workload management is very situation dependent."
   ]
  }
 ],
 "metadata": {
  "kernelspec": {
   "display_name": "Python 3",
   "language": "python",
   "name": "python3"
  },
  "language_info": {
   "codemirror_mode": {
    "name": "ipython",
    "version": 3
   },
   "file_extension": ".py",
   "mimetype": "text/x-python",
   "name": "python",
   "nbconvert_exporter": "python",
   "pygments_lexer": "ipython3",
   "version": "3.6.5"
  }
 },
 "nbformat": 4,
 "nbformat_minor": 2
}

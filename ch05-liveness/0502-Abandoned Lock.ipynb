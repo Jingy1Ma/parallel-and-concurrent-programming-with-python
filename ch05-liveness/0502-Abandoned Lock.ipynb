{
 "cells": [
  {
   "cell_type": "markdown",
   "metadata": {},
   "source": [
    "## 5.2 Abandoned Lock\n",
    "In the previous example, the critical section for this program exists between the acquire methods on lines 14 and 15, and the release methods on lines 21 and 22. If one of the philosopher's threads acquires the locks, and when something goes wrong in that critical section to cause an unexpected error, that could kill its thread before it gets a chance to release the lock. To simulate happening, We'll add another `if` statement to check it there're exactly 10 pieces of sushi left and do my favorite technique for intentionally crashing a program - divide by 0. \n",
    "\n",
    "We should never divide by 0, but we're doing it here to trigger an exception that will cause Python to crash the currently executing thread."
   ]
  },
  {
   "cell_type": "code",
   "execution_count": null,
   "metadata": {},
   "outputs": [],
   "source": [
    "#!/usr/bin/env python3\n",
    "\"\"\" Three philosophers, thinking and eating sushi \"\"\"\n",
    "\n",
    "import threading\n",
    "\n",
    "chopstick_a = threading.Lock()\n",
    "chopstick_b = threading.Lock()\n",
    "chopstick_c = threading.Lock()\n",
    "sushi_count = 500\n",
    "\n",
    "def philosopher(name, first_chopstick, second_chopstick):\n",
    "    global sushi_count\n",
    "    while sushi_count > 0: # eat sushi until it's all gone\n",
    "        first_chopstick.acquire()\n",
    "        second_chopstick.acquire()\n",
    "\n",
    "        if sushi_count > 0:\n",
    "            sushi_count -= 1\n",
    "            print(name, 'took a piece! Sushi remaining:', sushi_count)\n",
    "            \n",
    "        if sushi_count == 10:\n",
    "            print(1/0)\n",
    "\n",
    "        second_chopstick.release()\n",
    "        first_chopstick.release()\n",
    "        \n",
    "if __name__ == '__main__':\n",
    "    threading.Thread(target=philosopher, args=('Barron', chopstick_a, chopstick_b)).start()\n",
    "    threading.Thread(target=philosopher, args=('Olivia', chopstick_b, chopstick_c)).start()\n",
    "    threading.Thread(target=philosopher, args=('Steve', chopstick_a, chopstick_c)).start()"
   ]
  },
  {
   "cell_type": "markdown",
   "metadata": {},
   "source": [
    "If we run this program, it will get all the way down to 10 pieces remaining. Then the thread that happens to be executing at that time, in this case, that's Olivia thread, it hits that divide by zero and crashes. The other threads are stuck waiting on the locks that will never get released by Olivia, so the program is stuck here forever. \n",
    "\n",
    "This scenario is not the same as deadlock, because the threads here are not waiting on each other to release a lock. But it's a related scenario and the impact is the same: the program isn't making any progress. \n",
    "\n",
    "\n",
    "To prevent this type of situation from occurring, we should put the critical section within a `try` block. If we have any exception handling code, we can optionally include an `except` clause after the `try` block to catch and deal with that error. But what we really care about here is making sure that the locks always get released before the current thread gets terminated if it crashes. To do that, We'll also add a `finally` block after the `try` statement, and put the calls to unlock the chopsticks in it."
   ]
  },
  {
   "cell_type": "code",
   "execution_count": null,
   "metadata": {},
   "outputs": [],
   "source": [
    "#!/usr/bin/env python3\n",
    "\"\"\" Three philosophers, thinking and eating sushi \"\"\"\n",
    "\n",
    "import threading\n",
    "\n",
    "chopstick_a = threading.Lock()\n",
    "chopstick_b = threading.Lock()\n",
    "chopstick_c = threading.Lock()\n",
    "sushi_count = 500\n",
    "\n",
    "def philosopher(name, first_chopstick, second_chopstick):\n",
    "    global sushi_count\n",
    "    while sushi_count > 0: # eat sushi until it's all gone\n",
    "        first_chopstick.acquire()\n",
    "        second_chopstick.acquire()\n",
    "\n",
    "        try:\n",
    "            if sushi_count > 0:\n",
    "                sushi_count -= 1\n",
    "                print(name, 'took a piece! Sushi remaining:', sushi_count)\n",
    "\n",
    "            if sushi_count == 10:\n",
    "                print(1/0)\n",
    "\n",
    "        finally:\n",
    "            second_chopstick.release()\n",
    "            first_chopstick.release()\n",
    "        \n",
    "if __name__ == '__main__':\n",
    "    threading.Thread(target=philosopher, args=('Barron', chopstick_a, chopstick_b)).start()\n",
    "    threading.Thread(target=philosopher, args=('Olivia', chopstick_b, chopstick_c)).start()\n",
    "    threading.Thread(target=philosopher, args=('Steve', chopstick_a, chopstick_c)).start()\n"
   ]
  },
  {
   "cell_type": "markdown",
   "metadata": {},
   "source": [
    "This time, an `exception` still occurs when one of the threads takes the 10th piece of sushi, in this case, that was Olivia, but thanks to the `finally` clause, that thread is able to release the lock before it terminates. We can see that after the Olivia thread took the 10th piece of sushi and crashed, the Barron thread took over to finish eating the remaining sushi.\n",
    "\n",
    "It's good practice to always make sure lock will be released if something goes wrong and unexpectedly crashes a thread. Python makes that especially easy because `lock` objects support working with context managers. Using the `with` statement on a lock is equivalent to using the `try` and `finally` blocks. Using a context manager is a more pythonic way to program.\n",
    "\n",
    "```\n",
    "some_lock.acquire()\n",
    "try:\n",
    "    # do something...\n",
    "finally:\n",
    "    some_lock.release()\n",
    "    \n",
    "# More pythonic structured\n",
    "with some_lock:\n",
    "    # do something...\n",
    "```"
   ]
  },
  {
   "cell_type": "code",
   "execution_count": null,
   "metadata": {},
   "outputs": [],
   "source": [
    "#!/usr/bin/env python3\n",
    "\"\"\" Three philosophers, thinking and eating sushi \"\"\"\n",
    "\n",
    "import threading\n",
    "\n",
    "chopstick_a = threading.Lock()\n",
    "chopstick_b = threading.Lock()\n",
    "chopstick_c = threading.Lock()\n",
    "sushi_count = 500\n",
    "\n",
    "def philosopher(name, first_chopstick, second_chopstick):\n",
    "    global sushi_count\n",
    "    while sushi_count > 0: # eat sushi until it's all gone\n",
    "        with first_chopstick:\n",
    "            with second_chopstick:\n",
    "                if sushi_count > 0:\n",
    "                    sushi_count -= 1\n",
    "                    print(name, 'took a piece! Sushi remaining:', sushi_count)\n",
    "\n",
    "                if sushi_count == 10:\n",
    "                    print(1/0)\n",
    "\n",
    "if __name__ == '__main__':\n",
    "    threading.Thread(target=philosopher, args=('Barron', chopstick_a, chopstick_b)).start()\n",
    "    threading.Thread(target=philosopher, args=('Olivia', chopstick_b, chopstick_c)).start()\n",
    "    threading.Thread(target=philosopher, args=('Steve', chopstick_a, chopstick_c)).start()\n"
   ]
  }
 ],
 "metadata": {
  "kernelspec": {
   "display_name": "Python 3",
   "language": "python",
   "name": "python3"
  },
  "language_info": {
   "codemirror_mode": {
    "name": "ipython",
    "version": 3
   },
   "file_extension": ".py",
   "mimetype": "text/x-python",
   "name": "python",
   "nbconvert_exporter": "python",
   "pygments_lexer": "ipython3",
   "version": "3.6.5"
  }
 },
 "nbformat": 4,
 "nbformat_minor": 2
}

{
 "cells": [
  {
   "cell_type": "markdown",
   "metadata": {},
   "source": [
    "## 5.4 Livelock\n",
    "Multiple threads or processes are actively responding to each other to resolve conflict, but that prevents them from making progress. \n",
    "A livelock looks similar to a deadlock, in the sense that two threads are blocking each other for making progress, but the difference is that the threads in a livelock are actively trying to resolve the problem. A livelock can occur when two or more threads are designed to respond to the actions of each other. Both threads are busy doing something, but the combination of their efforts prevent them from actually making progress and accomplishing anything useful. The program will never reach the end. The ironic thing about livelocks is that they're often caused by algorithms that are intended to detect and recover from deadlock. If one or more processes or thread takes action to resolve the deadlock, then those threads can end up being overly polite and stuck in a livelock. To avoid that, ensure that only one process takes action chosen by priority or some other mechanism, like random selection."
   ]
  },
  {
   "cell_type": "code",
   "execution_count": 2,
   "metadata": {},
   "outputs": [
    {
     "name": "stdout",
     "output_type": "stream",
     "text": [
      "Barron took a piece! Sushi remaining: 499\n",
      "Barron took a piece! Sushi remaining: 498\n",
      "Barron took a piece! Sushi remaining: 497\n",
      "Barron took a piece! Sushi remaining: 496\n",
      "Barron took a piece! Sushi remaining: 495\n",
      "Barron took a piece! Sushi remaining: 494\n",
      "Barron took a piece! Sushi remaining: 493\n",
      "Barron took a piece! Sushi remaining: 492\n",
      "Barron took a piece! Sushi remaining: 491\n",
      "Barron took a piece! Sushi remaining: 490\n",
      "Barron took a piece! Sushi remaining: 489\n"
     ]
    }
   ],
   "source": [
    "#!/usr/bin/env python3\n",
    "\"\"\" Three philosophers, thinking and eating sushi \"\"\"\n",
    "\n",
    "import threading\n",
    "\n",
    "chopstick_a = threading.Lock()\n",
    "chopstick_b = threading.Lock()\n",
    "chopstick_c = threading.Lock()\n",
    "sushi_count = 500\n",
    "\n",
    "def philosopher(name, first_chopstick, second_chopstick):\n",
    "    global sushi_count\n",
    "    while sushi_count > 0: # eat sushi until it's all gone\n",
    "        first_chopstick.acquire()\n",
    "        second_chopstick.acquire()\n",
    "        try:\n",
    "            if sushi_count > 0:\n",
    "                sushi_count -= 1\n",
    "                print(name, 'took a piece! Sushi remaining:', sushi_count)\n",
    "        finally:\n",
    "            second_chopstick.release()\n",
    "            first_chopstick.release()\n",
    "\n",
    "if __name__ == '__main__':\n",
    "    threading.Thread(target=philosopher, args=('Barron', chopstick_a, chopstick_b)).start()\n",
    "    threading.Thread(target=philosopher, args=('Olivia', chopstick_b, chopstick_c)).start()\n",
    "    threading.Thread(target=philosopher, args=('Steve', chopstick_c, chopstick_a)).start()\n"
   ]
  },
  {
   "cell_type": "markdown",
   "metadata": {},
   "source": [
    "We can see that after several iterations, the program hits a deadlock. The philosophers have acquired their first chopstick lock and they're stuck waiting for their second one to become available. One possible way to fix this problem would be to have the philosophers release the lock on their first chopstick if the second chopstick is not available when they try to take it. That will give another philosopher a chance to take that first chopstick and hopefully prevent a deadlock."
   ]
  },
  {
   "cell_type": "code",
   "execution_count": null,
   "metadata": {},
   "outputs": [],
   "source": [
    "#!/usr/bin/env python3\n",
    "\"\"\" Three philosophers, thinking and eating sushi \"\"\"\n",
    "\n",
    "import threading\n",
    "\n",
    "chopstick_a = threading.Lock()\n",
    "chopstick_b = threading.Lock()\n",
    "chopstick_c = threading.Lock()\n",
    "sushi_count = 500\n",
    "\n",
    "def philosopher(name, first_chopstick, second_chopstick):\n",
    "    global sushi_count\n",
    "    while sushi_count > 0: # eat sushi until it's all gone\n",
    "        first_chopstick.acquire()\n",
    "        if not second_chopstick.acquire(blocking=False):\n",
    "            print(name, 'released their first chopstick.')\n",
    "            first_chopstick.release()\n",
    "        else:\n",
    "            try:\n",
    "                if sushi_count > 0:\n",
    "                    sushi_count -= 1\n",
    "                    print(name, 'took a piece! Sushi remaining:', sushi_count)\n",
    "            finally:\n",
    "                second_chopstick.release()\n",
    "                first_chopstick.release()\n",
    "\n",
    "if __name__ == '__main__':\n",
    "    threading.Thread(target=philosopher, args=('Barron', chopstick_a, chopstick_b)).start()\n",
    "    threading.Thread(target=philosopher, args=('Olivia', chopstick_b, chopstick_c)).start()\n",
    "    threading.Thread(target=philosopher, args=('Steve', chopstick_c, chopstick_a)).start()\n"
   ]
  },
  {
   "cell_type": "markdown",
   "metadata": {},
   "source": [
    "If we run this program, we will see a lot of output messages that the philosophers are releasing their first chopstick. Occasionally, the scheduling might work out so that one of the philosophers is able to acquire both of the locks they need to take a bite of sushi, but the majority of the time these philosophers are picking up their first chopstick, seeing that the second one is not available, so they politely put the first chopstick back, so another philosopher can use it. All of the threads are actively working to pick up and put down chopsticks. They're just not making any useful progress.\n",
    "\n",
    "Livelocks can be even harder to locate and debug than deadlocks, but when you multi-threaded program seems to be stuck in a lock, looking at the CPU utilization may give you some insight into whether it's a live or deadlock.\n",
    "\n",
    "To resolve this livelock, we're going to introduce some randomness into the locking progress by importing the `time` and `random` modules. Then after a philosopher decides to put back their first chopstick, we'll make them sleep/philosophize for a random amount of time."
   ]
  },
  {
   "cell_type": "code",
   "execution_count": null,
   "metadata": {},
   "outputs": [],
   "source": [
    "#!/usr/bin/env python3\n",
    "\"\"\" Three philosophers, thinking and eating sushi \"\"\"\n",
    "\n",
    "import threading\n",
    "import time\n",
    "from random import random\n",
    "\n",
    "chopstick_a = threading.Lock()\n",
    "chopstick_b = threading.Lock()\n",
    "chopstick_c = threading.Lock()\n",
    "sushi_count = 500\n",
    "\n",
    "def philosopher(name, first_chopstick, second_chopstick):\n",
    "    global sushi_count\n",
    "    while sushi_count > 0: # eat sushi until it's all gone\n",
    "        first_chopstick.acquire()\n",
    "        if not second_chopstick.acquire(blocking=False):\n",
    "            print(name, 'released their first chopstick.')\n",
    "            first_chopstick.release()\n",
    "            time.sleep(random()/10)\n",
    "        else:\n",
    "            try:\n",
    "                if sushi_count > 0:\n",
    "                    sushi_count -= 1\n",
    "                    print(name, 'took a piece! Sushi remaining:', sushi_count)\n",
    "            finally:\n",
    "                second_chopstick.release()\n",
    "                first_chopstick.release()\n",
    "\n",
    "if __name__ == '__main__':\n",
    "    threading.Thread(target=philosopher, args=('Barron', chopstick_a, chopstick_b)).start()\n",
    "    threading.Thread(target=philosopher, args=('Olivia', chopstick_b, chopstick_c)).start()\n",
    "    threading.Thread(target=philosopher, args=('Steve', chopstick_c, chopstick_a)).start()\n"
   ]
  },
  {
   "cell_type": "markdown",
   "metadata": {},
   "source": [
    "If we run the program, we'll see way fewer instances that the philosophers returned their chopsticks. So they're able to keep taking pieces of sushi. The program makes progress and is able to finish without running into a deadlock or livelock."
   ]
  }
 ],
 "metadata": {
  "kernelspec": {
   "display_name": "Python 3",
   "language": "python",
   "name": "python3"
  },
  "language_info": {
   "codemirror_mode": {
    "name": "ipython",
    "version": 3
   },
   "file_extension": ".py",
   "mimetype": "text/x-python",
   "name": "python",
   "nbconvert_exporter": "python",
   "pygments_lexer": "ipython3",
   "version": "3.6.5"
  }
 },
 "nbformat": 4,
 "nbformat_minor": 2
}
